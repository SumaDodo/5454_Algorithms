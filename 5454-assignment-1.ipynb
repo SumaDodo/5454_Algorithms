{
 "cells": [
  {
   "cell_type": "markdown",
   "metadata": {},
   "source": [
    "# CSCI 5454 Assignment 1\n",
    "\n",
    "This assignment should be solved in the notebook and the saved notebook with answers should be uploaded.\n",
    "\n",
    "Do not forget to edit your name here.\n",
    "\n",
    "__Name:__ Suma Dodmani\n",
    "\n",
    "__Collaborated With:__  N/A\n",
    "\n",
    "The collaboration/anti-plagiarism policy for this course can be found in the course website.\n",
    "\n",
    "This assignment is to be completed and uploaded to  moodle as a python3 notebook. \n",
    "Submission deadlines are posted on moodle. \n",
    "\n",
    "The questions  provided  below will ask you to either write code or \n",
    "write answers in the form of markdown. Markdown syntax guide is here: [click here](https://github.com/adam-p/markdown-here/wiki/Markdown-Cheatsheet). Using markdown you can typeset formulae using latex. This way you can write nice readable answers with formulae like thus:\n",
    "\n",
    "> The algorithm runs in time $\\Theta\\left(n^{2.1\\log_2(\\log_2( n \\log^*(n)))}\\right)$, \n",
    "wherein $\\log^*(n)$ is the inverse _Ackerman_ function.\n",
    "\n",
    "__Double click anywhere on this box to find out how your instructor typeset it. Press Shift+Enter to go back. __\n"
   ]
  },
  {
   "cell_type": "markdown",
   "metadata": {},
   "source": [
    "## Problem 1: Binary Search Tree\n",
    "\n",
    "The code below implements a python3 class for _binary tree_. The main class is called `Node`. It implements a node of the tree and has a `leftChild` and `rightChild`. Do not edit the code provided."
   ]
  },
  {
   "cell_type": "code",
   "execution_count": 3,
   "metadata": {
    "collapsed": true
   },
   "outputs": [],
   "source": [
    "## DO NOT EDIT THIS CLASS\n",
    "class Node: \n",
    "    # A binary search tree node class in Python3\n",
    "    def __init__(self, n): \n",
    "        self.key = n # Set the key to number n\n",
    "        self.left = None # Currently left child is a leaf denoted by None \n",
    "        self.right = None # right child is a leaf denoted by None\n",
    "        \n",
    "    def addLeftSubtree(self, lNode): # Replace the left child with lNode\n",
    "        self.left = lNode\n",
    "        \n",
    "    def addRightSubtree(self, rNode): # Replace the right child with rNode\n",
    "        self.right = rNode\n",
    "        \n",
    "    def addSubtree(self, lNode, rNode): # Add both left and right nodes\n",
    "        self.addLeftSubtree(lNode)\n",
    "        self.addRightSubtree(rNode)\n",
    "## END-DO NOT EDIT"
   ]
  },
  {
   "cell_type": "markdown",
   "metadata": {},
   "source": [
    "Your job is to implement a function called `isBinarySearchTree(rootNode)` that given the root node (of type `Node`)\n",
    "will return `True` if the node is a Binary Search Tree and `False` otherwise.  Recall that a binary search tree has the property that:\n",
    "- the key for every node is _greater than or equal to_ all nodes in its left subtree and likewise \n",
    "- the key of every node is _less than or equal to_ all nodes in its right subtree.\n",
    "\n",
    "Your solution should use recursion and you are welcome to create/use an auxilliary helper function to be called from `isBinarySearchTree`. All your answer should be in the box below."
   ]
  },
  {
   "cell_type": "code",
   "execution_count": 4,
   "metadata": {
    "collapsed": true
   },
   "outputs": [],
   "source": [
    "## IMPLEMENT YOUR CODE HERE.\n",
    "## Expected Size 20 lines or less.\n",
    "def BST(rootNode, max1, min1):\n",
    "    if rootNode == None:\n",
    "        return True\n",
    "    if((rootNode.key>max1 or rootNode.key<min1)):\n",
    "        return False\n",
    "    return(BST(rootNode.left,rootNode.key-1,min1) and BST(rootNode.right,max1, rootNode.key+1))\n",
    "\n",
    "def isBinarySearchTree(rootNode):\n",
    "    max1 = 10000000\n",
    "    min1 = -10000000\n",
    "    if rootNode == None:\n",
    "        return True\n",
    "    else:\n",
    "        result = BST(rootNode,max1,min1)\n",
    "        return(result)\n",
    "    raise NotImplementedError()\n",
    "## END-YOUR CODE HERE"
   ]
  },
  {
   "cell_type": "code",
   "execution_count": 5,
   "metadata": {},
   "outputs": [
    {
     "name": "stdout",
     "output_type": "stream",
     "text": [
      "Test 1 Passed!\n",
      "Test 2 Passed!\n",
      "Test 3 Passed!\n",
      "Test 4 Passed!\n"
     ]
    }
   ],
   "source": [
    "## THIS IS TEST CODE.\n",
    "from IPython.core.display import HTML\n",
    "## TEST CODE: DO NOT EDIT\n",
    "\n",
    "# Tree number 1\n",
    "\n",
    "node4 = Node(1)\n",
    "node5 = Node(-1)\n",
    "node6 = Node(3)\n",
    "\n",
    "node4.addSubtree(node5, node6)\n",
    "\n",
    "node1 = Node(20)\n",
    "node1.addLeftSubtree(node4)\n",
    "\n",
    "node2 = Node(30)\n",
    "node3 = Node(40)\n",
    "node2.addLeftSubtree(node1)\n",
    "node2.addRightSubtree(node3)\n",
    "\n",
    "rootNode1 = node2\n",
    "\n",
    "\n",
    "# Tree number 2\n",
    "\n",
    "node1 = Node(15)\n",
    "node2 = Node(54)\n",
    "node3 = Node(45)\n",
    "node3.addSubtree(node2, node1)\n",
    "node4 = Node(115)\n",
    "node5 = Node(94)\n",
    "node5.addSubtree(node3, node4)\n",
    "node6 = Node(18)\n",
    "node7 = Node(23)\n",
    "node9 = Node(20)\n",
    "node9.addSubtree(node6, node7)\n",
    "\n",
    "rootNode2 = Node(55)\n",
    "rootNode2.addSubtree(node9, node5)\n",
    "\n",
    "# Tree number 3\n",
    "\n",
    "rootNode3 = Node(20)\n",
    "\n",
    "# Tree number 4\n",
    "\n",
    "node11 = Node(18)\n",
    "node12 = Node(26)\n",
    "node13 = Node(12)\n",
    "node14 = Node(29)\n",
    "\n",
    "node11.addSubtree(None, node12)\n",
    "node12.addSubtree(node13, node14)\n",
    "\n",
    "rootNode4 = node11\n",
    "\n",
    "try:\n",
    "    assert isBinarySearchTree(rootNode1), 'Test 1 Failed: expected answer True, your answer False'\n",
    "    print('Test 1 Passed!')\n",
    "    assert not isBinarySearchTree(rootNode2), 'Test 2 Failed: expected answer False, your answer True'\n",
    "    print('Test 2 Passed!')\n",
    "    assert isBinarySearchTree(rootNode3), 'Test 3 Failed: expected answer True, your answer False'\n",
    "    print('Test 3 Passed!')\n",
    "    assert not isBinarySearchTree(rootNode4), 'Test 3 Failed: expected answer False, your answer True'\n",
    "    print('Test 4 Passed!')\n",
    "    \n",
    "except NotImplementedError:\n",
    "    display(HTML('<font color=\"red\"> Nothing Implemented Yet. </font>'))\n",
    "\n",
    "## END-DO NOT EDIT"
   ]
  },
  {
   "cell_type": "markdown",
   "metadata": {},
   "source": [
    "## Problem 2: Summation.\n",
    "\n",
    "Calculate a closed form value for the following \"arithmetic-geometric\" summation:\n",
    "\n",
    "$$ T(h) = 1 \\times 2^1 + 2 \\times 2^2 + 3 \\times 2^3 + \\cdots + h \\times 2^h $$."
   ]
  },
  {
   "cell_type": "markdown",
   "metadata": {},
   "source": [
    "## Your answer here (expected length 6 lines)\n",
    "\n",
    "Considering  \n",
    "$$ T(h) = 1 \\times 2^1 + 2 \\times 2^2 ... + h \\times 2^h $$  \n",
    "This is arithematic geometric series of the form \n",
    "$$T(h) = ab + (a+d)br + (a+2d)br^3+ ... +[a+(n-1)d]br^{n-1}$$ \n",
    "Thus by taking the sum of this arithematic geometric progression by considering a = 1, b= 2, d= 1, r = 2 and n-1 = h,  \n",
    "We get,\n",
    "$$ T(h) = 2 - 2^h(2 - 2h) $$\n",
    "\n"
   ]
  },
  {
   "cell_type": "markdown",
   "metadata": {},
   "source": [
    "## Problem 3: Binary Search Trees\n",
    "\n",
    "Recall that the height of a node in a binary search tree is defined as follows:\n",
    "- height(leaf) = 0\n",
    "- height(internal node) = 1 + max( height(left child), height(right child) ) \n",
    "\n",
    "A perfectly balanced tree is one where for every internal node, the height of the left child and that of the right child are the same.\n",
    "\n",
    "\n",
    "The quantity $S(h)$ sums up the height of all internal nodes for a perfectly balanced tree whose root has  height $h$.\n",
    "\n",
    "$$S(h) = \\sum_{v \\in InternalNodes} \\text{height}(v) $$ \n",
    "\n",
    "\n",
    "__(A)__ Set up a recurrence $S(h)$ for this summation. Do not forget to write down $S(0), S(1)$.\n",
    "\n",
    "__(B)__ Solve the recurrence from __(A)__ using the expansion method."
   ]
  },
  {
   "cell_type": "markdown",
   "metadata": {},
   "source": [
    "## Your answer here (expected length: 12 lines)\n",
    "\n",
    "__(a)__ Considering the fact that for the perfectly balanaced tree, the number of lower level nodes are two times the above level        node,i.e., for the tree of height 2 , the sum of heights is 4. The sum of height of all the nodes is  \n",
    "   sum of height of all the internal nodes + the height of the tree  \n",
    "   Thus, the recursion we get is  $$ S(h) = 2 S(h-1) + h --> (equation 1) $$  where the terminating condition is for height h = 0, the sum is 0      and if the node is a leaf node, then its height is 0\n",
    "   $$S(0) = 2(0-1)+0 = 0$$ as there can't be a condition when there are -1 nodes\n",
    "   $$S(1) = 2(1-1)+1 = 1$$\n",
    "   \n",
    "__(b)__ Solving equation 1 by expansion,  \n",
    "    $$2S(h-1)+h$$\n",
    "    $$=2[2S(h-2)+h-1]+h$$\n",
    "    $$=2^2S(h-2)+2(h-1)+h$$\n",
    "    $$=2^2[2S(h-3)+(h-2)]+2(h-1)+h$$\n",
    "    $$=2^3S(h-3)+2^2(h-2)+2(h-1)+h$$\n",
    "   Thus, the equation at kth term will be $$2^k(h-k)$$ \n",
    "   $$=\\sum_{k=0}^{k=h-1}2^k(h-k)$$\n",
    "   This is again arithematic geometric series thus applying this to the equation derived in problem 2  \n",
    "   $$=\\sum_{k=0}^{k=h-1}h2^k - \\sum_{k=0}^{k=h-1}k2^k$$\n",
    "   h is constant and the first term is in geometric series and the second term is arithematic-geometric progession. Applying the respective summations, we get,  \n",
    "   $$=h(2^h-1)-(2-2^{h-1}[2-2(h-1)])$$\n",
    "   $$=2^{h+1}-h-2$$\n",
    "   \n",
    "\n",
    "\n"
   ]
  },
  {
   "cell_type": "markdown",
   "metadata": {},
   "source": [
    "## Problem 4\n",
    "\n",
    "Problem 3 asked you to calculate the summation of the heights of the internal nodes for a perfectly balanced\n",
    "tree. We now ask you to write down the worst case amongst all possible binary trees with $n$ internal nodes.\n",
    "\n",
    "$$ T(n) = \\sum_{v \\in Internal Nodes} height(v) $$.\n",
    "\n",
    "You should express your answer in the $\\Theta(\\cdot)$ notation. Also describe in one line what kind of tree yields this worst case."
   ]
  },
  {
   "cell_type": "markdown",
   "metadata": {},
   "source": [
    "## Your answer here (Expected length: 2 lines).\n",
    "\n",
    "* The worst case is when the tree doesn't have one of its child node and everytime it's traversing the internal nodes. It has to visit the empty nodes. This forms the skew tree. When we consider the sum of height of skew tree, We get:  \n",
    "$$T(h)=\\sum1+2+3+4+...+(n)$$\n",
    "$$=\\frac{n(n+1)}{2}$$\n",
    "Thus we get complexity of:  \n",
    "$$\\theta(n^2)$$\n",
    "* Complete left skewed tree or complete right skewed tree yeilds this kind of result"
   ]
  },
  {
   "cell_type": "markdown",
   "metadata": {
    "collapsed": true
   },
   "source": [
    "**References**  \n",
    "1. CLRS textbook for the concepts about binary search tree"
   ]
  },
  {
   "cell_type": "code",
   "execution_count": null,
   "metadata": {
    "collapsed": true
   },
   "outputs": [],
   "source": []
  }
 ],
 "metadata": {
  "kernelspec": {
   "display_name": "Python 3",
   "language": "python",
   "name": "python3"
  },
  "language_info": {
   "codemirror_mode": {
    "name": "ipython",
    "version": 3
   },
   "file_extension": ".py",
   "mimetype": "text/x-python",
   "name": "python",
   "nbconvert_exporter": "python",
   "pygments_lexer": "ipython3",
   "version": "3.6.3"
  }
 },
 "nbformat": 4,
 "nbformat_minor": 2
}
